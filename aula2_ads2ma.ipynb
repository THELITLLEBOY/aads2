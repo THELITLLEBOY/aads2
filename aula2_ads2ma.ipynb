{
  "nbformat": 4,
  "nbformat_minor": 0,
  "metadata": {
    "colab": {
      "provenance": []
    },
    "kernelspec": {
      "name": "python3",
      "display_name": "Python 3"
    },
    "language_info": {
      "name": "python"
    }
  },
  "cells": [
    {
      "cell_type": "code",
      "execution_count": 2,
      "metadata": {
        "colab": {
          "base_uri": "https://localhost:8080/"
        },
        "id": "8CPLHWl3Yvtr",
        "outputId": "bf98d98b-c3f4-4270-89a0-0df206c26a20"
      },
      "outputs": [
        {
          "output_type": "stream",
          "name": "stdout",
          "text": [
            "<class 'bool'>\n"
          ]
        }
      ],
      "source": [
        "# UNINASSAU\n",
        "# DOCENTE: CLOVES ROCHA\n",
        "# ESTUDANTE: JOÃO\n",
        "# TIPOS PRIMITIVOS DE DADOS\n",
        "\n",
        "c =  False\n",
        "print (type(c))"
      ]
    }
  ]
}